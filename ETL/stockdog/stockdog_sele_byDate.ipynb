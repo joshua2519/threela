{
 "cells": [
  {
   "cell_type": "markdown",
   "metadata": {},
   "source": [
    "###安裝相關軟體\n",
    "需事先安裝Python 2.7 與pip\n",
    "\n",
    "selenium webdriver\n",
    "pip install selenium\n",
    "\n",
    "pyautogui\n",
    "pip install pyautogui\n",
    "\n",
    "下載Google chrome driver\n",
    "http://chromedriver.storage.googleapis.com/2.15/chromedriver_win32.zip\n",
    "解壓縮完後，移動到 C:\\python2.7\\\n",
    "\n",
    "###需要的檔案\n",
    "tradeday.txt\n",
    "topComList.csv\n"
   ]
  },
  {
   "cell_type": "code",
   "execution_count": 1,
   "metadata": {
    "collapsed": false
   },
   "outputs": [
    {
     "name": "stdout",
     "output_type": "stream",
     "text": [
      "430661\n",
      "C:/Program Files (x86)/Google/Chrome/Application/43.0.2357.124/漢微科3658_買賣日報_細部籌碼_2015-05-21_股狗網.csv exist!\n",
      "C:/Program Files (x86)/Google/Chrome/Application/43.0.2357.124/世界5347_買賣日報_細部籌碼_2015-05-21_股狗網.csv exist!\n",
      "C:/Program Files (x86)/Google/Chrome/Application/43.0.2357.124/新普6121_買賣日報_細部籌碼_2015-05-21_股狗網.csv exist!\n"
     ]
    },
    {
     "ename": "WebDriverException",
     "evalue": "Message: chrome not reachable\n  (Session info: chrome=43.0.2357.124)\n  (Driver info: chromedriver=2.15.322448 (52179c1b310fec1797c81ea9a20326839860b7d3),platform=Windows NT 6.1 SP1 x86_64)\n",
     "output_type": "error",
     "traceback": [
      "\u001b[1;31m---------------------------------------------------------------------------\u001b[0m",
      "\u001b[1;31mWebDriverException\u001b[0m                        Traceback (most recent call last)",
      "\u001b[1;32m<ipython-input-1-e9ae017c0d18>\u001b[0m in \u001b[0;36m<module>\u001b[1;34m()\u001b[0m\n\u001b[0;32m     46\u001b[0m                 \u001b[1;32mcontinue\u001b[0m\u001b[1;33m\u001b[0m\u001b[0m\n\u001b[0;32m     47\u001b[0m             \u001b[0mindexUrl\u001b[0m\u001b[1;33m=\u001b[0m\u001b[1;34m'https://www.stockdog.com.tw/stockdog/index.php?sid='\u001b[0m\u001b[1;33m+\u001b[0m\u001b[0msid\u001b[0m\u001b[1;33m+\u001b[0m\u001b[1;34m'+'\u001b[0m\u001b[1;33m+\u001b[0m\u001b[0mname\u001b[0m\u001b[1;33m+\u001b[0m\u001b[1;34m'&p=1&m=2&date='\u001b[0m\u001b[1;33m+\u001b[0m\u001b[0mdate\u001b[0m\u001b[1;33m\u001b[0m\u001b[0m\n\u001b[1;32m---> 48\u001b[1;33m             \u001b[0mdriver\u001b[0m\u001b[1;33m.\u001b[0m\u001b[0mget\u001b[0m\u001b[1;33m(\u001b[0m\u001b[0mindexUrl\u001b[0m\u001b[1;33m)\u001b[0m\u001b[1;33m\u001b[0m\u001b[0m\n\u001b[0m\u001b[0;32m     49\u001b[0m             \u001b[0mexport\u001b[0m \u001b[1;33m=\u001b[0m \u001b[0mdriver\u001b[0m\u001b[1;33m.\u001b[0m\u001b[0mfind_element_by_id\u001b[0m\u001b[1;33m(\u001b[0m\u001b[1;34m'ZeroClipboard_TableToolsMovie_1'\u001b[0m\u001b[1;33m)\u001b[0m\u001b[1;33m\u001b[0m\u001b[0m\n\u001b[0;32m     50\u001b[0m             \u001b[0mtime\u001b[0m\u001b[1;33m.\u001b[0m\u001b[0msleep\u001b[0m\u001b[1;33m(\u001b[0m\u001b[1;36m3\u001b[0m\u001b[1;33m)\u001b[0m\u001b[1;33m\u001b[0m\u001b[0m\n",
      "\u001b[1;32mC:\\Python27\\lib\\site-packages\\selenium\\webdriver\\remote\\webdriver.pyc\u001b[0m in \u001b[0;36mget\u001b[1;34m(self, url)\u001b[0m\n\u001b[0;32m    205\u001b[0m         \u001b[0mLoads\u001b[0m \u001b[0ma\u001b[0m \u001b[0mweb\u001b[0m \u001b[0mpage\u001b[0m \u001b[1;32min\u001b[0m \u001b[0mthe\u001b[0m \u001b[0mcurrent\u001b[0m \u001b[0mbrowser\u001b[0m \u001b[0msession\u001b[0m\u001b[1;33m.\u001b[0m\u001b[1;33m\u001b[0m\u001b[0m\n\u001b[0;32m    206\u001b[0m         \"\"\"\n\u001b[1;32m--> 207\u001b[1;33m         \u001b[0mself\u001b[0m\u001b[1;33m.\u001b[0m\u001b[0mexecute\u001b[0m\u001b[1;33m(\u001b[0m\u001b[0mCommand\u001b[0m\u001b[1;33m.\u001b[0m\u001b[0mGET\u001b[0m\u001b[1;33m,\u001b[0m \u001b[1;33m{\u001b[0m\u001b[1;34m'url'\u001b[0m\u001b[1;33m:\u001b[0m \u001b[0murl\u001b[0m\u001b[1;33m}\u001b[0m\u001b[1;33m)\u001b[0m\u001b[1;33m\u001b[0m\u001b[0m\n\u001b[0m\u001b[0;32m    208\u001b[0m \u001b[1;33m\u001b[0m\u001b[0m\n\u001b[0;32m    209\u001b[0m     \u001b[1;33m@\u001b[0m\u001b[0mproperty\u001b[0m\u001b[1;33m\u001b[0m\u001b[0m\n",
      "\u001b[1;32mC:\\Python27\\lib\\site-packages\\selenium\\webdriver\\remote\\webdriver.pyc\u001b[0m in \u001b[0;36mexecute\u001b[1;34m(self, driver_command, params)\u001b[0m\n\u001b[0;32m    193\u001b[0m         \u001b[0mresponse\u001b[0m \u001b[1;33m=\u001b[0m \u001b[0mself\u001b[0m\u001b[1;33m.\u001b[0m\u001b[0mcommand_executor\u001b[0m\u001b[1;33m.\u001b[0m\u001b[0mexecute\u001b[0m\u001b[1;33m(\u001b[0m\u001b[0mdriver_command\u001b[0m\u001b[1;33m,\u001b[0m \u001b[0mparams\u001b[0m\u001b[1;33m)\u001b[0m\u001b[1;33m\u001b[0m\u001b[0m\n\u001b[0;32m    194\u001b[0m         \u001b[1;32mif\u001b[0m \u001b[0mresponse\u001b[0m\u001b[1;33m:\u001b[0m\u001b[1;33m\u001b[0m\u001b[0m\n\u001b[1;32m--> 195\u001b[1;33m             \u001b[0mself\u001b[0m\u001b[1;33m.\u001b[0m\u001b[0merror_handler\u001b[0m\u001b[1;33m.\u001b[0m\u001b[0mcheck_response\u001b[0m\u001b[1;33m(\u001b[0m\u001b[0mresponse\u001b[0m\u001b[1;33m)\u001b[0m\u001b[1;33m\u001b[0m\u001b[0m\n\u001b[0m\u001b[0;32m    196\u001b[0m             response['value'] = self._unwrap_value(\n\u001b[0;32m    197\u001b[0m                 response.get('value', None))\n",
      "\u001b[1;32mC:\\Python27\\lib\\site-packages\\selenium\\webdriver\\remote\\errorhandler.pyc\u001b[0m in \u001b[0;36mcheck_response\u001b[1;34m(self, response)\u001b[0m\n\u001b[0;32m    168\u001b[0m         \u001b[1;32melif\u001b[0m \u001b[0mexception_class\u001b[0m \u001b[1;33m==\u001b[0m \u001b[0mUnexpectedAlertPresentException\u001b[0m \u001b[1;32mand\u001b[0m \u001b[1;34m'alert'\u001b[0m \u001b[1;32min\u001b[0m \u001b[0mvalue\u001b[0m\u001b[1;33m:\u001b[0m\u001b[1;33m\u001b[0m\u001b[0m\n\u001b[0;32m    169\u001b[0m             \u001b[1;32mraise\u001b[0m \u001b[0mexception_class\u001b[0m\u001b[1;33m(\u001b[0m\u001b[0mmessage\u001b[0m\u001b[1;33m,\u001b[0m \u001b[0mscreen\u001b[0m\u001b[1;33m,\u001b[0m \u001b[0mstacktrace\u001b[0m\u001b[1;33m,\u001b[0m \u001b[0mvalue\u001b[0m\u001b[1;33m[\u001b[0m\u001b[1;34m'alert'\u001b[0m\u001b[1;33m]\u001b[0m\u001b[1;33m.\u001b[0m\u001b[0mget\u001b[0m\u001b[1;33m(\u001b[0m\u001b[1;34m'text'\u001b[0m\u001b[1;33m)\u001b[0m\u001b[1;33m)\u001b[0m\u001b[1;33m\u001b[0m\u001b[0m\n\u001b[1;32m--> 170\u001b[1;33m         \u001b[1;32mraise\u001b[0m \u001b[0mexception_class\u001b[0m\u001b[1;33m(\u001b[0m\u001b[0mmessage\u001b[0m\u001b[1;33m,\u001b[0m \u001b[0mscreen\u001b[0m\u001b[1;33m,\u001b[0m \u001b[0mstacktrace\u001b[0m\u001b[1;33m)\u001b[0m\u001b[1;33m\u001b[0m\u001b[0m\n\u001b[0m\u001b[0;32m    171\u001b[0m \u001b[1;33m\u001b[0m\u001b[0m\n\u001b[0;32m    172\u001b[0m     \u001b[1;32mdef\u001b[0m \u001b[0m_value_or_default\u001b[0m\u001b[1;33m(\u001b[0m\u001b[0mself\u001b[0m\u001b[1;33m,\u001b[0m \u001b[0mobj\u001b[0m\u001b[1;33m,\u001b[0m \u001b[0mkey\u001b[0m\u001b[1;33m,\u001b[0m \u001b[0mdefault\u001b[0m\u001b[1;33m)\u001b[0m\u001b[1;33m:\u001b[0m\u001b[1;33m\u001b[0m\u001b[0m\n",
      "\u001b[1;31mWebDriverException\u001b[0m: Message: chrome not reachable\n  (Session info: chrome=43.0.2357.124)\n  (Driver info: chromedriver=2.15.322448 (52179c1b310fec1797c81ea9a20326839860b7d3),platform=Windows NT 6.1 SP1 x86_64)\n"
     ]
    }
   ],
   "source": [
    "import os\n",
    "from selenium import webdriver\n",
    "import pyautogui\n",
    "import random\n",
    "import time\n",
    "import csv\n",
    "\n",
    "chromeOptions = webdriver.ChromeOptions()\n",
    "prefs = {\"download.default_directory\" : \"C:\\Temp\",\"download.prompt_for_download\": False}\n",
    "chromeOptions.add_experimental_option(\"prefs\",prefs)\n",
    "driver = webdriver.Chrome(chrome_options=chromeOptions)\n",
    "'''\n",
    "fp = webdriver.FirefoxProfile()\n",
    "fp.set_preference(\"browser.download.folderList\",2)\n",
    "fp.set_preference(\"browser.download.manager.showWhenStarting\",False)\n",
    "fp.set_preference(\"browser.download.dir\", os.getcwd())\n",
    "fp.set_preference(\"browser.helperApps.neverAsk.saveToDisk\", \"application/octet-stream\")\n",
    "driver= webdriver.Firefox(firefox_profile=fp)\n",
    "'''\n",
    "driver.implicitly_wait(30)\n",
    "driver.get(\"https://www.stockdog.com.tw/\")\n",
    "driver.find_element_by_name(\"adgh4r23\").clear()\n",
    "driver.find_element_by_name(\"adgh4r23\").send_keys(\"iii101\")\n",
    "driver.find_element_by_name(\"fsdfy452d\").clear()\n",
    "driver.find_element_by_name(\"fsdfy452d\").send_keys(\"123456\")\n",
    "#輸入驗證碼\n",
    "cat = raw_input()\n",
    "driver.find_element_by_name(\"captcha\").clear()\n",
    "driver.find_element_by_name(\"captcha\").send_keys(cat)\n",
    "driver.find_element_by_css_selector(\"#next > button.btn.btn-primary\").click()\n",
    "\n",
    "filepath=r\"C:/Program Files (x86)/Google/Chrome/Application/43.0.2357.124/\"\n",
    "#設定日期區間\n",
    "datelist=[\"2015-05-21\"]\n",
    "\n",
    "for line in datelist :\n",
    "    date=line.strip()\n",
    "    with open('topComList.csv', 'rb') as csvfile:\n",
    "        reader = csv.reader(csvfile)\n",
    "        for row in reader:            \n",
    "            sid= row[0]\n",
    "            name=row[1]\n",
    "            outfile=(filepath+name+sid+'_買賣日報_細部籌碼_'+date+'_股狗網.csv').decode('utf-8')\n",
    "            if(os.path.isfile(outfile)):\n",
    "                print outfile.encode('utf-8')+\" exist!\"\n",
    "                continue\n",
    "            indexUrl='https://www.stockdog.com.tw/stockdog/index.php?sid='+sid+'+'+name+'&p=1&m=2&date='+date    \n",
    "            driver.get(indexUrl)\n",
    "            try:\n",
    "                msg=driver.find_element_by_id('define_table')\n",
    "            except:\n",
    "                print outfile.encode('utf-8')+\" no data!\"\n",
    "                continue\n",
    "            \n",
    "            try:\n",
    "                export = driver.find_element_by_id('ZeroClipboard_TableToolsMovie_1')\n",
    "            except:\n",
    "                print \"no csv icon!\"\n",
    "                continue\n",
    "            time.sleep(3)\n",
    "            webdriver.ActionChains(driver).move_to_element_with_offset(export,18,18).click().perform()\n",
    "            time.sleep(3)\n",
    "            pyautogui.press('tab')\n",
    "            pyautogui.press('tab')\n",
    "            pyautogui.press('tab')\n",
    "            pyautogui.press('enter')\n",
    "            time.sleep(random.randrange(10,15))\n"
   ]
  },
  {
   "cell_type": "code",
   "execution_count": null,
   "metadata": {
    "collapsed": true
   },
   "outputs": [],
   "source": []
  }
 ],
 "metadata": {
  "kernelspec": {
   "display_name": "Python 2",
   "language": "python",
   "name": "python2"
  },
  "language_info": {
   "codemirror_mode": {
    "name": "ipython",
    "version": 2
   },
   "file_extension": ".py",
   "mimetype": "text/x-python",
   "name": "python",
   "nbconvert_exporter": "python",
   "pygments_lexer": "ipython2",
   "version": "2.7.10"
  }
 },
 "nbformat": 4,
 "nbformat_minor": 0
}
