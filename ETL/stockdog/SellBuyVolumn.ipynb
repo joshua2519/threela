{
 "cells": [
  {
   "cell_type": "code",
   "execution_count": null,
   "metadata": {
    "collapsed": false
   },
   "outputs": [],
   "source": [
    "import requests,csv,os,time\n",
    "\n",
    "cookie='SDSSESSID=v5p1fsfl52ooofsc9m089rltk2; _gat=1; _ga=GA1.3.2122762481.1437927829'\n",
    "header={\n",
    "'Accept':'text/html,application/xhtml+xml,application/xml;q=0.9,image/webp,*/*;q=0.8',\n",
    "'Accept-Encoding':'gzip, deflate, sdch',\n",
    "'Accept-Language':'en-US,en;q=0.8,zh-TW;q=0.6,zh;q=0.4',\n",
    "'Connection':'keep-alive',\n",
    "'Host':'www.stockdog.com.tw',\n",
    "'User-Agent':'Mozilla/5.0 (Windows NT 6.1; WOW64) AppleWebKit/537.36 (KHTML, like Gecko) Chrome/43.0.2357.124 Safari/537.36'\n",
    "}\n",
    "rs = requests.session()\n",
    "\n",
    "index =rs.get('https://www.stockdog.com.tw/stockdog/index.php?m=home',headers=header)\n",
    "\n",
    "actionHeader={\n",
    "    'Accept':'text/html,application/xhtml+xml,application/xml;q=0.9,image/webp,*/*;q=0.8',\n",
    "    'Accept-Encoding':'gzip, deflate',\n",
    "    'Accept-Language':'en-US,en;q=0.8,zh-TW;q=0.6,zh;q=0.4',\n",
    "    'Cache-Control':'max-age=0',\n",
    "    'Connection':'keep-alive',\n",
    "    'Content-Length':'208',\n",
    "    'Content-Type':'application/x-www-form-urlencoded',\n",
    "    'Cookie':cookie,\n",
    "    'Host':'www.stockdog.com.tw',\n",
    "    'Origin':'https://www.stockdog.com.tw',\n",
    "    'Referer':'https://www.stockdog.com.tw/stockdog/index.php?m=home',\n",
    "    'User-Agent':'Mozilla/5.0 (Windows NT 6.1; WOW64) AppleWebKit/537.36 (KHTML, like Gecko) Chrome/43.0.2357.124 Safari/537.36',\n",
    "}\n",
    "with open('topComList.csv', 'rb') as csvfile:\n",
    "    reader = csv.reader(csvfile)\n",
    "    for row in reader:\n",
    "        stockid=row[0]\n",
    "        filename=stockid+'.txt'\n",
    "        if(not os.path.isfile(filename)):\n",
    "            print stockid\n",
    "            grpah=requests.get('https://www.stockdog.com.tw/stockdog/graph.php?Gtype=76a9fa25b18b8ab53e10718a30bb25237d&level=20&sid='+stockid,headers=actionHeader)\n",
    "            with open(filename,'w') as source:\n",
    "                source.write(grpah.text.encode('utf-8'))\n",
    "            #time.sleep(1)\n",
    "#print  res.text"
   ]
  },
  {
   "cell_type": "code",
   "execution_count": null,
   "metadata": {
    "collapsed": true
   },
   "outputs": [],
   "source": []
  }
 ],
 "metadata": {
  "kernelspec": {
   "display_name": "Python 2",
   "language": "python",
   "name": "python2"
  },
  "language_info": {
   "codemirror_mode": {
    "name": "ipython",
    "version": 2
   },
   "file_extension": ".py",
   "mimetype": "text/x-python",
   "name": "python",
   "nbconvert_exporter": "python",
   "pygments_lexer": "ipython2",
   "version": "2.7.10"
  }
 },
 "nbformat": 4,
 "nbformat_minor": 0
}
