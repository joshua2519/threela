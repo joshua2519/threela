{
 "cells": [
  {
   "cell_type": "code",
   "execution_count": 41,
   "metadata": {
    "collapsed": false
   },
   "outputs": [],
   "source": [
    "import requests\n",
    "from bs4 import BeautifulSoup\n",
    "\n",
    "res=requests.get('http://www.twse.com.tw/ch/products/broker_service/broker2_list.php')\n",
    "res.encoding='big5'\n",
    "#print res.text\n",
    "content= BeautifulSoup(res.text)\n",
    "brokerlist=content.select('#contentblock > td > table.board_prod > tr')\n",
    "out=\"\"\n",
    "for broker in brokerlist[1:]:\n",
    "    for td in broker.select('td'):\n",
    "        out+=td.text.encode('utf-8')+','\n",
    "    out+=\"\\n\"\n",
    "    \n",
    "fid=open('brokerslist.txt','w')\n",
    "fid.write(out)\n",
    "fid.close()"
   ]
  },
  {
   "cell_type": "code",
   "execution_count": null,
   "metadata": {
    "collapsed": true
   },
   "outputs": [],
   "source": []
  }
 ],
 "metadata": {
  "kernelspec": {
   "display_name": "Python 2",
   "language": "python",
   "name": "python2"
  },
  "language_info": {
   "codemirror_mode": {
    "name": "ipython",
    "version": 2
   },
   "file_extension": ".py",
   "mimetype": "text/x-python",
   "name": "python",
   "nbconvert_exporter": "python",
   "pygments_lexer": "ipython2",
   "version": "2.7.10"
  }
 },
 "nbformat": 4,
 "nbformat_minor": 0
}
