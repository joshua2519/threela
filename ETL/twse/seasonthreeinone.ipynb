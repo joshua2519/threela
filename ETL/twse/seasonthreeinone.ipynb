{
 "cells": [
  {
   "cell_type": "code",
   "execution_count": null,
   "metadata": {
    "collapsed": false
   },
   "outputs": [],
   "source": [
    "\n",
    "import requests,time\n",
    "import json,csv,os.path,sys,random\n",
    "\n",
    "yearlist=range(94,102)\n",
    "comlist=[]\n",
    "with open('allComList.csv', 'rb') as csvfile:\n",
    "    reader = csv.reader(csvfile)\n",
    "    for row in reader:\n",
    "        comlist.append(row[0])\n",
    "\n",
    "rs=requests.session()\n",
    "main=rs.get('http://mops.twse.com.tw/mops/web/t05st29')\n",
    "\n",
    "for y in yearlist:\n",
    "    for com in comlist:\n",
    "        payload={\n",
    "    'encodeURIComponent':'1',\n",
    "    'step':'1',\n",
    "    'firstin':'1',\n",
    "    'off':'1',\n",
    "    'keyword4':'',\n",
    "    'code1':'',\n",
    "    'TYPEK2':'',\n",
    "    'checkbtn':'',\n",
    "    'queryName':'co_id',\n",
    "    't05st29_c_ifrs':'N',\n",
    "    't05st30_c_ifrs':'N',\n",
    "    'TYPEK':'all',\n",
    "    'isnew':'false',\n",
    "    'co_id':com,\n",
    "    'year':str(y)}\n",
    "        filename=str(y)+'-'+com+'.txt'\n",
    "        if(os.path.isfile(filename)):\n",
    "            print filename+\"is exist\"\n",
    "            continue\n",
    "        try:\n",
    "            res=rs.post('http://mops.twse.com.tw/mops/web/ajax_t05st29',data = payload,timeout=10)\n",
    "            #print res.encoding\n",
    "            with open(filename,'w') as source:\n",
    "                source.write(res.text.encode('ISO-8859-1'))\n",
    "                #print str(y)+'-'+com+'.txt' + ' export!'\n",
    "            time.sleep(random.randrange(3,5))\n",
    "        except:\n",
    "            print filename +\" error!\"\n",
    "            continue\n",
    "\n",
    "            \n"
   ]
  },
  {
   "cell_type": "code",
   "execution_count": null,
   "metadata": {
    "collapsed": true
   },
   "outputs": [],
   "source": []
  }
 ],
 "metadata": {
  "kernelspec": {
   "display_name": "Python 2",
   "language": "python",
   "name": "python2"
  },
  "language_info": {
   "codemirror_mode": {
    "name": "ipython",
    "version": 2
   },
   "file_extension": ".py",
   "mimetype": "text/x-python",
   "name": "python",
   "nbconvert_exporter": "python",
   "pygments_lexer": "ipython2",
   "version": "2.7.10"
  }
 },
 "nbformat": 4,
 "nbformat_minor": 0
}
