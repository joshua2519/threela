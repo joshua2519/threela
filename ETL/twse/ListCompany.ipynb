{
 "cells": [
  {
   "cell_type": "code",
   "execution_count": 20,
   "metadata": {
    "collapsed": false
   },
   "outputs": [],
   "source": [
    "import requests\n",
    "from bs4 import BeautifulSoup\n",
    "content=\"\"\n",
    "#上市公司資料\n",
    "#res= requests.get('http://isin.twse.com.tw/isin/C_public.jsp?strMode=2')\n",
    "#上櫃公司資料\n",
    "res= requests.get('http://isin.twse.com.tw/isin/C_public.jsp?strMode=4')\n",
    "soup = BeautifulSoup(res.text)\n",
    "for tr in soup.select('tr')[1:]:\n",
    "    if(len(tr.select('td'))==7):\n",
    "        id=tr.select('td')[0].text.split()[0]\n",
    "        cficode=tr.select('td')[5].text\n",
    "        if len(id)==4 and cficode=='ESVUFR':\n",
    "            tdlist=tr.select('td')\n",
    "            for i in range(0,6):\n",
    "                if(i==0):\n",
    "                    m=tdlist[i].text.split()\n",
    "                    content+=m[0]+','\n",
    "                    content+=m[1]+','\n",
    "                else:\n",
    "                    content+=tdlist[i].text.strip()+','                \n",
    "            content+=\"\\n\"\n",
    "fid=open('listcompanyOTC.csv','w')\n",
    "#fid=open('listcompany.csv','w')\n",
    "fid.write(content.encode('utf-8'))\n",
    "fid.close()\n",
    "\n"
   ]
  },
  {
   "cell_type": "code",
   "execution_count": null,
   "metadata": {
    "collapsed": true
   },
   "outputs": [],
   "source": []
  }
 ],
 "metadata": {
  "kernelspec": {
   "display_name": "Python 2",
   "language": "python",
   "name": "python2"
  },
  "language_info": {
   "codemirror_mode": {
    "name": "ipython",
    "version": 2
   },
   "file_extension": ".py",
   "mimetype": "text/x-python",
   "name": "python",
   "nbconvert_exporter": "python",
   "pygments_lexer": "ipython2",
   "version": "2.7.10"
  }
 },
 "nbformat": 4,
 "nbformat_minor": 0
}
