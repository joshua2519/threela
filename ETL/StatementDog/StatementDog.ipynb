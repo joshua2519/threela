{
 "cells": [
  {
   "cell_type": "code",
   "execution_count": 21,
   "metadata": {
    "collapsed": false,
    "scrolled": true
   },
   "outputs": [],
   "source": [
    "import requests,csv\n",
    "import time, datetime\n",
    "data={\n",
    "    'authenticity_token':'i5z2jSEz1fWCUit8ueB7s8dIM5gmJ/fu8Cr7bUW9DP0=',\n",
    "    'user[email]':'zero11911@hotmail.com',\n",
    "    'user[password]':'123456',\n",
    "    'retpage':'',\n",
    "    'user[remember_me]':'0',\n",
    "    'user[remember_me]':'1'   \n",
    "}\n",
    "res=requests.session()\n",
    "rs=res.post('https://statementdog.com/users/sign_in',data = data)\n",
    "rs.encoding='utf-8'\n",
    "def now_milliseconds():\n",
    "    return int(time.time() * 1000)\n",
    "mstimeone = now_milliseconds()\n",
    "#print rs.text\n",
    "tid = open('C:/Users/BigData/Desktop/allCompanyList.csv','rb')\n",
    "line = csv.reader(tid)\n",
    "for row in line:\n",
    "    stockId = row[0]\n",
    "    header = {\n",
    "            'Accept':'application/json, text/javascript, */*; q=0.01',\n",
    "            'Accept-Encoding':'gzip, deflate, sdch',\n",
    "            'Accept-Language':'zh-TW,zh;q=0.8,en-US;q=0.6,en;q=0.4',\n",
    "            'Connection':'keep-alive',\n",
    "            'Content-Type':'application/x-www-form-urlencoded; charset=UTF-8',\n",
    "            'Cookie':'buuid=QkR1K2liVXJCZDhEQStjRmx6Lzl5UWtEZXZJelA4eHpoSEp6K0lZS2d5ZllWcjRXb1l5eEllS1lMKzhPa2pBaS0tRmNtWW1tTGUzY2RLN0g1TW1sSEVBQT09--ab2c6a10449d45d72a9c4b6c262b187a8e83ec4e; upgrade_browser=1; remember_user_token=W1sxNDc3OTVdLCIkMmEkMTAkNkhSYVZLdDg2L1kzQzlBbFNnMUZPZSJd--5aa1e1932f7639081857e2c6bf72d79062cffe9d; _gat=1; prev=UVhjZ2tIS3FFdVdVZ1kzNzFmenRIUT09LS1ZUXhJdngzRFRDUkxSN0hyNFZKSWh3PT0%3D--684446bf9dec2a32b42dce98ff401ebe21e79199; _ga=GA1.2.231946619.1437032098; mp_2fc60276bfe20ef798d15c46e498d765_mixpanel=%7B%22distinct_id%22%3A%20%22147795%22%2C%22%24initial_referrer%22%3A%20%22https%3A%2F%2Fstatementdog.com%2Fusers%2Fsign_in%22%2C%22%24initial_referring_domain%22%3A%20%22statementdog.com%22%7D; _statementdog_session=TUkrZFBaelgzSWNBei9iUzNwTVg0QStQQ2tYSTN3QmYxaG1pbmRNWE42OGlJTjAya0lpRU0wWFpReVF2aXNScytTNlZPNVhId1BIRjdOS0dXZVExY0pTcTRvbEtxSCtaakRJbmVGOG5Zd1RWVi9mYUdHYU5OM0FmenVlSGt3b09KSHl0eE9EYlRuU3FSVVVDeDYvYU5OQ1BSdFVpWFpCVkVCNkllTnRBbkt1Z2hhOUlDSVFCR1NpVU5BaHlSeFkxVUFtM3E4WG5vTmlib21oK0tKT3Q0bHdQT3JLOE11RjNHMk1RZW0zUDZHMHV2djQ4Q0hmeldmUlNiWGhvNWVweUxlaTVJWGp2UXU4Njlha2NnL3ZzY3BsYWNpZU9xVDhFZ3VmeTNKVSttRno2WnpLS29BeGEyRW10VjRyMTFhQUtMQUIrOHpzcGdVeDlJTDcwbk9xc1B3PT0tLWl6RlRjYSthV0l1WnZRZWlPWWs5Q1E9PQ%3D%3D--be91cefc4fc44d8fe1e563bbd21222b3a4b58fa5',\n",
    "            'Host':'statementdog.com',\n",
    "            'Referer':'https://statementdog.com/analysis/tpe',\n",
    "            'User-Agent':'Mozilla/5.0 (Windows NT 6.1; WOW64) AppleWebKit/537.36 (KHTML, like Gecko) Chrome/43.0.2357.132 Safari/537.36',\n",
    "            'X-CSRF-Token':'TRkmNdPq6CTuSwNzqui/9LkKThBa579q7z/k3Zj4s7U=',\n",
    "            'X-Requested-With':'XMLHttpRequest'\n",
    "        }\n",
    "    rs2 = res.get('https://statementdog.com/analysis/analysis_ajax/'+stockId+'/2001/1/2015/4/0?_='+str(mstimeone),headers = header)\n",
    "    #print rs2.text\n",
    "    rs2.encodig = 'utf-8'\n",
    "    fid = open('E:/data/realROE/'+stockId+'.txt','w')\n",
    "    fid.write(rs2.text.encode('utf-8'))\n",
    "fid.close()"
   ]
  },
  {
   "cell_type": "code",
   "execution_count": 15,
   "metadata": {
    "collapsed": false
   },
   "outputs": [
    {
     "name": "stdout",
     "output_type": "stream",
     "text": [
      "<type 'long'>\n",
      "1437014174000\n"
     ]
    }
   ],
   "source": [
    "import time, datetime\n",
    "\n",
    "def now_milliseconds():\n",
    "    return int(time.time() * 1000)\n",
    "\n",
    "# reference time.time\n",
    "# Return the current time in seconds since the Epoch.\n",
    "# Fractions of a second may be present if the system clock provides them.\n",
    "# Note: if your system clock provides fractions of a second you can end up \n",
    "# with results like: 1405821684785.2 \n",
    "# our conversion to an int prevents this\n",
    "\n",
    "def date_time_milliseconds(date_time_obj):\n",
    "    return int(time.mktime(date_time_obj.timetuple()) * 1000)\n",
    "\n",
    "# reference: time.mktime() will\n",
    "# Convert a time tuple in local time to seconds since the Epoch.\n",
    "\n",
    "mstimeone = now_milliseconds()\n",
    "\n",
    "mstimetwo = date_time_milliseconds(datetime.datetime.utcnow())\n",
    "\n",
    "# value of mstimeone\n",
    "# 1405821684785\n",
    "# value of mstimetwo\n",
    "# 1405839684000\n",
    "print type(mstimeone)\n",
    "print mstimetwo"
   ]
  },
  {
   "cell_type": "code",
   "execution_count": null,
   "metadata": {
    "collapsed": true
   },
   "outputs": [],
   "source": []
  }
 ],
 "metadata": {
  "kernelspec": {
   "display_name": "Python 2",
   "language": "python",
   "name": "python2"
  },
  "language_info": {
   "codemirror_mode": {
    "name": "ipython",
    "version": 2
   },
   "file_extension": ".py",
   "mimetype": "text/x-python",
   "name": "python",
   "nbconvert_exporter": "python",
   "pygments_lexer": "ipython2",
   "version": "2.7.10"
  }
 },
 "nbformat": 4,
 "nbformat_minor": 0
}
