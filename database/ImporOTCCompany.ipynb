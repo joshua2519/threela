{
 "cells": [
  {
   "cell_type": "code",
   "execution_count": 2,
   "metadata": {
    "collapsed": false
   },
   "outputs": [
    {
     "name": "stdout",
     "output_type": "stream",
     "text": [
      "E:/daily/raw/20150715\\5364.csv=***該股票該日無交易資訊***\n"
     ]
    },
    {
     "ename": "NameError",
     "evalue": "name 'cursor' is not defined",
     "output_type": "error",
     "traceback": [
      "\u001b[1;31m---------------------------------------------------------------------------\u001b[0m",
      "\u001b[1;31mNameError\u001b[0m                                 Traceback (most recent call last)",
      "\u001b[1;32m<ipython-input-2-74701f26e234>\u001b[0m in \u001b[0;36m<module>\u001b[1;34m()\u001b[0m\n\u001b[0;32m     77\u001b[0m                 \u001b[0mtraceback\u001b[0m\u001b[1;33m.\u001b[0m\u001b[0mprint_exc\u001b[0m\u001b[1;33m(\u001b[0m\u001b[1;33m)\u001b[0m\u001b[1;33m\u001b[0m\u001b[0m\n\u001b[0;32m     78\u001b[0m             \u001b[1;32mfinally\u001b[0m\u001b[1;33m:\u001b[0m\u001b[1;33m\u001b[0m\u001b[0m\n\u001b[1;32m---> 79\u001b[1;33m                 \u001b[1;32mif\u001b[0m \u001b[0mcursor\u001b[0m\u001b[1;33m:\u001b[0m\u001b[1;33m\u001b[0m\u001b[0m\n\u001b[0m\u001b[0;32m     80\u001b[0m                     \u001b[0mcursor\u001b[0m\u001b[1;33m.\u001b[0m\u001b[0mclose\u001b[0m\u001b[1;33m(\u001b[0m\u001b[1;33m)\u001b[0m\u001b[1;33m\u001b[0m\u001b[0m\n\u001b[0;32m     81\u001b[0m                 \u001b[1;32mif\u001b[0m \u001b[0mcnx\u001b[0m\u001b[1;33m:\u001b[0m\u001b[1;33m\u001b[0m\u001b[0m\n",
      "\u001b[1;31mNameError\u001b[0m: name 'cursor' is not defined"
     ]
    }
   ],
   "source": [
    "#import OTC company\n",
    "import os,csv,codecs,sys,traceback\n",
    "import mysql.connector\n",
    "comlistOTC=[]\n",
    "with open('E:/daily/listcompanyOTC.csv') as csvfile:\n",
    "    reader=csv.reader(csvfile)\n",
    "    for row in reader:\n",
    "        comlistOTC.append(row[0])\n",
    "rawdatapath='E:/daily/raw/'\n",
    "#folders=os.listdir(rawdatapath)\n",
    "folders=['20150715']\n",
    "for folder in folders:\n",
    "    datefolder=os.path.join(rawdatapath,folder)   \n",
    "    for stockid in comlistOTC:\n",
    "        stockfile=os.path.join(datefolder,stockid+'.csv')\n",
    "        if(os.path.exists(stockfile)):\n",
    "            records=[]\n",
    "            try:\n",
    "                cnx = mysql.connector.connect(user='threela', password='123456',\n",
    "                                          host='127.0.0.1',\n",
    "                                          database='threela')\n",
    "                cursor = cnx.cursor()\n",
    "                #read data from csv file\n",
    "                with open(stockfile,'r') as dailyfile:\n",
    "                    reader =csv.reader(dailyfile)\n",
    "                    headline=reader.next()[0]\n",
    "                    #print headline.decode('big5')\n",
    "                    if headline=='***該股票該日無交易資訊***':\n",
    "                        print stockfile +u\"=***該股票該日無交易資訊***\"\n",
    "                        continue\n",
    "                    reader.next()\n",
    "                    reader.next()\n",
    "                    \n",
    "                    for row in reader:\n",
    "                        record1={'id':'','broker':'','price':'','buy':'','sell':''}\n",
    "                        record2={'id':'','broker':'','price':'','buy':'','sell':''}\n",
    "                        #data=row.decode(code).split(',')\n",
    "                        record1['id']=row[0]\n",
    "                        record1['broker']=row[1][:4]\n",
    "                        record1['price']=float(row[2].replace(',',''))\n",
    "                        record1['buy']=int(row[3].replace(',',''))\n",
    "                        record1['sell']=int(row[4].replace(',',''))\n",
    "                        records.append(record1)\n",
    "                        #print record1               \n",
    "                        if len(row)>5 and len(row[6])>0:\n",
    "                            record2['id']=row[6]\n",
    "                            record2['broker']=row[7][:4]\n",
    "                            record2['price']=float(row[8].replace(',',''))\n",
    "                            record2['buy']=int(row[9].replace(',',''))\n",
    "                            record2['sell']=int(row[10].replace(',',''))\n",
    "                            records.append(record2)\n",
    "                            #print record2\n",
    "                \n",
    "                #insert to DB\n",
    "                add_daily= (\"INSERT INTO `threela`.`daily_tmp` \"\n",
    "                           \"(StockId,BrokerId,TimeId,Buy,Sell,BuyPrice,SellPrice) \"\n",
    "                           \"VALUES (%s,%s,%s,%s,%s,%s,%s)\")\n",
    "                data=[]\n",
    "                for record in records:\n",
    "                    brokerid=record['broker']\n",
    "                    TimeId=folder\n",
    "                    Buy=int(record['buy']/1000)\n",
    "                    Sell=int(record['sell']/1000)\n",
    "                    buyprice=0\n",
    "                    sellprice=0\n",
    "                    if record['buy'] >0:\n",
    "                            buyprice=record['price']\n",
    "                    if record['sell'] >0:\n",
    "                            sellprice=record['price']\n",
    "                    data_daily=(stockid,brokerid,TimeId,Buy,Sell,buyprice,sellprice)\n",
    "                    data.append(data_daily)\n",
    "        \n",
    "                cursor.executemany(add_daily, data)\n",
    "                cnx.commit()\n",
    "            except:\n",
    "                print \"Unexpected error:\", stockfile,sys.exc_info()[0],sys.exc_info()[1]\n",
    "                traceback.print_exc()\n",
    "            finally:    \n",
    "                if cursor:\n",
    "                    cursor.close()\n",
    "                if cnx:\n",
    "                    cnx.close()"
   ]
  },
  {
   "cell_type": "code",
   "execution_count": null,
   "metadata": {
    "collapsed": true
   },
   "outputs": [],
   "source": []
  }
 ],
 "metadata": {
  "kernelspec": {
   "display_name": "Python 2",
   "language": "python",
   "name": "python2"
  },
  "language_info": {
   "codemirror_mode": {
    "name": "ipython",
    "version": 2
   },
   "file_extension": ".py",
   "mimetype": "text/x-python",
   "name": "python",
   "nbconvert_exporter": "python",
   "pygments_lexer": "ipython2",
   "version": "2.7.10"
  }
 },
 "nbformat": 4,
 "nbformat_minor": 0
}
