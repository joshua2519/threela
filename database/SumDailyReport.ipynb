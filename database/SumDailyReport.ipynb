{
 "cells": [
  {
   "cell_type": "code",
   "execution_count": 3,
   "metadata": {
    "collapsed": false,
    "scrolled": true
   },
   "outputs": [
    {
     "name": "stdout",
     "output_type": "stream",
     "text": [
      "20150803is starting!\n",
      "20150803is end!\n",
      "20150804is starting!\n",
      "20150804is end!\n"
     ]
    }
   ],
   "source": [
    "import mysql.connector,sys,traceback,csv\n",
    "comlistOTC=[]\n",
    "with open('E:/daily/listcompanyOTC.csv') as csvfile:\n",
    "    reader=csv.reader(csvfile)\n",
    "    for row in reader:\n",
    "        comlistOTC.append(row[0])\n",
    "comlist=[]\n",
    "with open('E:/daily/listcompany.csv') as csvfile:\n",
    "    reader=csv.reader(csvfile)\n",
    "    for row in reader:\n",
    "        comlist.append(row[0])\n",
    "try:\n",
    "    cnx = mysql.connector.connect(user='threela', password='123456',\n",
    "                                  host='127.0.0.1',\n",
    "                                  database='threela')\n",
    "    cursor = cnx.cursor()\n",
    "    query = (\"SELECT distinct timeid FROM threela.daily_tmp where timeid > 20150731 order by timeid\")\n",
    "    cursor.execute(query)\n",
    "    datelist=cursor.fetchall()\n",
    "\n",
    "    for d in datelist:\n",
    "        print str(d[0]) + 'is starting!'\n",
    "        query='SELECT Stockid,brokerid,timeid,sum(buy) as buy,sum(sell) as sell,sum(buy*buyprice)/sum(buy) as buyprice,sum(sell*sellprice)/sum(Sell) as sellprice FROM threela.daily_tmp where timeid = %s group by Stockid,brokerid,timeid'\n",
    "        data=(d[0],)\n",
    "        cursor.execute(query,data)\n",
    "        rows=cursor.fetchall()\n",
    "        insert_daily=\"INSERT IGNORE INTO `threela`.`daily` (`StockId`,`BrokerId`,`TimeId`,`Buy`,`Sell`,`BuyPrice`,`SellPrice`,`Source`) VALUES (%s, %s, %s, %s, %s, %s, %s,%s)\"\n",
    "        data_daily_all=[]\n",
    "        for row in rows:\n",
    "\n",
    "            buyprice=0\n",
    "            if row[5]==None:\n",
    "                buyprice=0\n",
    "            else:\n",
    "                buyprice=row[5]\n",
    "                \n",
    "            sellprice=0\n",
    "            if row[6]==None:\n",
    "                sellprice=0\n",
    "            else:\n",
    "                sellprice=row[6]\n",
    "            \n",
    "            source=0\n",
    "            if row[0] in comlist:\n",
    "                source=1\n",
    "            if row[0] in comlistOTC:\n",
    "                source=2\n",
    "                \n",
    "            data_daily=(row[0],row[1],row[2],row[3],row[4],buyprice,sellprice,source)\n",
    "            data_daily_all.append(data_daily)\n",
    "        print str(d[0]) + 'is end!'\n",
    "        cursor.executemany(insert_daily,data_daily_all)\n",
    "        cnx.commit()\n",
    "except:\n",
    "    #print \"Unexpected error:\",sys.exc_info()[0],sys.exc_info()[1],sys.exc_info()[2]\n",
    "    traceback.print_exc()\n",
    "finally:\n",
    "    cursor.close()\n",
    "    cnx.close()"
   ]
  },
  {
   "cell_type": "code",
   "execution_count": null,
   "metadata": {
    "collapsed": true
   },
   "outputs": [],
   "source": []
  }
 ],
 "metadata": {
  "kernelspec": {
   "display_name": "Python 2",
   "language": "python",
   "name": "python2"
  },
  "language_info": {
   "codemirror_mode": {
    "name": "ipython",
    "version": 2
   },
   "file_extension": ".py",
   "mimetype": "text/x-python",
   "name": "python",
   "nbconvert_exporter": "python",
   "pygments_lexer": "ipython2",
   "version": "2.7.10"
  }
 },
 "nbformat": 4,
 "nbformat_minor": 0
}
