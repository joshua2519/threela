{
 "cells": [
  {
   "cell_type": "code",
   "execution_count": 36,
   "metadata": {
    "collapsed": false
   },
   "outputs": [],
   "source": [
    "import os,csv\n",
    "\n",
    "path=u'C:/Users/Joshua/Google 雲端硬碟/BIGDATA/ZB101上課資料分享區/上櫃日報/'\n",
    "files=os.listdir(path)\n",
    "comlist=[]\n",
    "with open('allComList.csv') as csvfile:\n",
    "    reader=csv.reader(csvfile)\n",
    "    for row in reader:\n",
    "        comlist.append(row[0])\n",
    "\n",
    "for d in files:\n",
    "    if os.path.isdir(os.path.join(path,d)):\n",
    "        subfolder=os.path.join(path,d)\n",
    "        for e in os.listdir(subfolder):\n",
    "            if '(1)' in e:\n",
    "                print os.path.join(subfolder,e)\n",
    "        #for com in comlist:\n",
    "        #    name=com+'.csv'\n",
    "        #    if not os.path.isfile(os.path.join(subfolder,name)):\n",
    "        #        print os.path.join(subfolder,name) + ' doesn\\'t exist!'\n",
    "            \n",
    "        \n",
    "        "
   ]
  },
  {
   "cell_type": "code",
   "execution_count": 27,
   "metadata": {
    "collapsed": false
   },
   "outputs": [],
   "source": [
    "import os\n",
    "path=u'C:/Users/Joshua/Google 雲端硬碟/BIGDATA/ZB101上課資料分享區/上市日報/20150528/'\n",
    "files=os.listdir(path)\n",
    "for d in files:\n",
    "    if '(1)' in d:\n",
    "        print d\n",
    "        oldname=os.path.join(path,d)\n",
    "        nf=d.replace('(1)','')\n",
    "        newname=os.path.join(path,nf)\n",
    "        os.rename(oldname,newname)"
   ]
  },
  {
   "cell_type": "code",
   "execution_count": null,
   "metadata": {
    "collapsed": true
   },
   "outputs": [],
   "source": []
  }
 ],
 "metadata": {
  "kernelspec": {
   "display_name": "Python 2",
   "language": "python",
   "name": "python2"
  },
  "language_info": {
   "codemirror_mode": {
    "name": "ipython",
    "version": 2
   },
   "file_extension": ".py",
   "mimetype": "text/x-python",
   "name": "python",
   "nbconvert_exporter": "python",
   "pygments_lexer": "ipython2",
   "version": "2.7.10"
  }
 },
 "nbformat": 4,
 "nbformat_minor": 0
}
