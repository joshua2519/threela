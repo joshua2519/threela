{
 "cells": [
  {
   "cell_type": "code",
   "execution_count": 23,
   "metadata": {
    "collapsed": false
   },
   "outputs": [],
   "source": [
    "#檢查檔案是否有缺,並移動至特定目錄\n",
    "\n",
    "import os,csv,shutil\n",
    "\n",
    "def writelog(filepath,msg):\n",
    "    with open(filepath,'a') as log:\n",
    "        log.write(msg)\n",
    "        \n",
    "\n",
    "path='E:/daily/OTC' #原始檔案存放位置\n",
    "dstPath='E:/daily/raw/' #目標檔案存放位置\n",
    "logfile='E:/daily/OTC_file_missing.txt' #缺檔紀錄\n",
    "files=os.listdir(path)\n",
    "comlist=[]\n",
    "#開敵股票清單\n",
    "with open('E:/daily/listcompanyOTC.csv') as csvfile:\n",
    "    reader=csv.reader(csvfile)\n",
    "    for row in reader:\n",
    "        comlist.append(row[0])\n",
    "\n",
    "for datefolder in files:\n",
    "    if os.path.isdir(os.path.join(path,datefolder)):\n",
    "        subfolder=os.path.join(path,datefolder)\n",
    "        dstfolder=os.path.join(dstPath,datefolder)\n",
    "        if not os.path.exists(dstfolder):\n",
    "            os.mkdir(dstfolder)\n",
    "        #for e in os.listdir(subfolder):\n",
    "            #if '(1)' in e:\n",
    "            #    print os.path.join(subfolder,e)\n",
    "        for com in comlist:\n",
    "            name=com+'.csv'\n",
    "            Orifile=os.path.join(subfolder,name)\n",
    "            Dstfile=os.path.join(dstfolder,name)\n",
    "            if not os.path.exists(Orifile):                \n",
    "                writelog(logfile,datefolder+'\\t'+com+'\\n')\n",
    "            else:\n",
    "                if not os.path.exists(Dstfile):\n",
    "                    shutil.copy(Orifile,Dstfile)\n",
    "            \n",
    "        \n",
    "        "
   ]
  },
  {
   "cell_type": "code",
   "execution_count": null,
   "metadata": {
    "collapsed": true
   },
   "outputs": [],
   "source": []
  }
 ],
 "metadata": {
  "kernelspec": {
   "display_name": "Python 2",
   "language": "python",
   "name": "python2"
  },
  "language_info": {
   "codemirror_mode": {
    "name": "ipython",
    "version": 2
   },
   "file_extension": ".py",
   "mimetype": "text/x-python",
   "name": "python",
   "nbconvert_exporter": "python",
   "pygments_lexer": "ipython2",
   "version": "2.7.10"
  }
 },
 "nbformat": 4,
 "nbformat_minor": 0
}
