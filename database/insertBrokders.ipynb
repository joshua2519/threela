{
 "cells": [
  {
   "cell_type": "code",
   "execution_count": 26,
   "metadata": {
    "collapsed": false
   },
   "outputs": [],
   "source": [
    "import mysql.connector\n",
    "import csv\n",
    "cnx = mysql.connector.connect(user='threela', password='123456',\n",
    "                              host='10.120.31.4',\n",
    "                              database='threela')\n",
    "cursor = cnx.cursor()\n",
    "add_brokder = (\"INSERT INTO `threela`.`brokers` \"\n",
    "               \"(BrokerId,Name,Address,Phone,HeadId) \"\n",
    "               \"VALUES (%s,%s,%s,%s,%s)\")\n",
    "'''countyDic={'宜蘭縣':'10002','新竹縣':'10004', '苗栗縣':'10005','彰化縣':'10007','南投縣':'10008',\n",
    "           '雲林縣':'10009','嘉義縣':'10010','屏東縣':'10013','臺東縣':'10014','花蓮縣':'10015',\n",
    "           '澎湖縣':'10016','基隆市':'10017','新竹市':'10018','嘉義市':'10020','連江縣':'09007',\n",
    "           '金門縣':'09020','金門縣':'09020','台北市':'63','高雄市':'64','新北市':'65','台中市':'66',\n",
    "           '台南市':'67','桃園市':'68'}'''\n",
    "\n",
    "data=[]\n",
    "with open('brokers.txt', 'r') as broker:\n",
    "    reader = csv.reader(broker)\n",
    "    for row in reader:\n",
    "        brokerid=row[0]\n",
    "        name=row[1]\n",
    "        address=row[3]\n",
    "        phone=row[4]\n",
    "        #county=str(row[3])[0:9]\n",
    "        #countyId=countyDic[county]\n",
    "        headid=''\n",
    "        if int(brokerid[0]) < 9:\n",
    "            headid=brokerid[0:3]+'0'\n",
    "        else:\n",
    "            headid=brokerid[0:2]+'00'\n",
    "        data_broker=(brokerid,name,address,phone,headid)\n",
    "        data.append(data_broker)\n",
    "cursor.executemany(add_brokder, data)\n",
    "cnx.commit()\n",
    "cursor.close()\n",
    "cnx.close()        "
   ]
  },
  {
   "cell_type": "code",
   "execution_count": null,
   "metadata": {
    "collapsed": true
   },
   "outputs": [],
   "source": []
  }
 ],
 "metadata": {
  "kernelspec": {
   "display_name": "Python 2",
   "language": "python",
   "name": "python2"
  },
  "language_info": {
   "codemirror_mode": {
    "name": "ipython",
    "version": 2
   },
   "file_extension": ".py",
   "mimetype": "text/x-python",
   "name": "python",
   "nbconvert_exporter": "python",
   "pygments_lexer": "ipython2",
   "version": "2.7.10"
  }
 },
 "nbformat": 4,
 "nbformat_minor": 0
}
