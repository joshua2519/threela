{
 "cells": [
  {
   "cell_type": "code",
   "execution_count": 11,
   "metadata": {
    "collapsed": false
   },
   "outputs": [],
   "source": [
    "import mysql.connector\n",
    "import csv\n",
    "cnx = mysql.connector.connect(user='threela', password='123456',\n",
    "                              host='10.120.31.4',\n",
    "                              database='threela')\n",
    "cursor = cnx.cursor()\n",
    "add_brokder = (\"INSERT INTO `threela`.`brokers` \"\n",
    "               \"(BrokerId,Name,Address,Phone,OpenDate,HeadId,Type) \"\n",
    "               \"VALUES (%s,%s,%s,%s,%s,%s,%s)\")\n",
    "'''countyDic={'宜蘭縣':'10002','新竹縣':'10004', '苗栗縣':'10005','彰化縣':'10007','南投縣':'10008',\n",
    "           '雲林縣':'10009','嘉義縣':'10010','屏東縣':'10013','臺東縣':'10014','花蓮縣':'10015',\n",
    "           '澎湖縣':'10016','基隆市':'10017','新竹市':'10018','嘉義市':'10020','連江縣':'09007',\n",
    "           '金門縣':'09020','金門縣':'09020','台北市':'63','高雄市':'64','新北市':'65','台中市':'66',\n",
    "           '台南市':'67','桃園市':'68'}'''\n",
    "\n",
    "data=[]\n",
    "with open('brokers_stockdog.txt', 'r') as broker:\n",
    "    reader = csv.reader(broker)\n",
    "    for row in reader:\n",
    "        brokerid=row[0]        \n",
    "        name=row[1]\n",
    "        \n",
    "        if len(row[2])==6:\n",
    "            taiwanyear=row[2][0:2]\n",
    "        else:\n",
    "            taiwanyear=row[2][0:3]\n",
    "        ADyear=int(taiwanyear)+1911\n",
    "        opendate=str(ADyear)+row[2][-4:]\n",
    "        address=row[3]\n",
    "        phone=row[4]\n",
    "        #county=str(row[3])[0:9]\n",
    "        #countyId=countyDic[county]\n",
    "        headid=''\n",
    "        if int(brokerid[0]) < 9:\n",
    "            headid=brokerid[0:3]+'0'\n",
    "        else:\n",
    "            headid=brokerid[0:2]+'00'\n",
    "        brokerType=None\n",
    "        if len(row[5])!=0:\n",
    "            typename=row[5].split(' ')[0]\n",
    "            if typename=='公股銀行':\n",
    "                brokerType=1\n",
    "            elif typename=='外資':\n",
    "                brokerType=2\n",
    "            elif typename=='國內自營商':\n",
    "                brokerType=3\n",
    "            else:\n",
    "                brokerType=4\n",
    "        #print brokerid,name,address,phone,opendate,headid,brokerType\n",
    "        data_broker=(brokerid,name,address,phone,opendate,headid,brokerType)\n",
    "        data.append(data_broker)\n",
    "cursor.executemany(add_brokder, data)\n",
    "cnx.commit()\n",
    "cursor.close()\n",
    "cnx.close()        "
   ]
  },
  {
   "cell_type": "code",
   "execution_count": null,
   "metadata": {
    "collapsed": true
   },
   "outputs": [],
   "source": []
  }
 ],
 "metadata": {
  "kernelspec": {
   "display_name": "Python 2",
   "language": "python",
   "name": "python2"
  },
  "language_info": {
   "codemirror_mode": {
    "name": "ipython",
    "version": 2
   },
   "file_extension": ".py",
   "mimetype": "text/x-python",
   "name": "python",
   "nbconvert_exporter": "python",
   "pygments_lexer": "ipython2",
   "version": "2.7.10"
  }
 },
 "nbformat": 4,
 "nbformat_minor": 0
}
