{
 "cells": [
  {
   "cell_type": "code",
   "execution_count": 14,
   "metadata": {
    "collapsed": true
   },
   "outputs": [
    {
     "ename": "TypeError",
     "evalue": "getcwd() takes no arguments (1 given)",
     "output_type": "error",
     "traceback": [
      "\u001b[1;31m---------------------------------------------------------------------------\u001b[0m",
      "\u001b[1;31mTypeError\u001b[0m                                 Traceback (most recent call last)",
      "\u001b[1;32m<ipython-input-14-f3e0f52c6f86>\u001b[0m in \u001b[0;36m<module>\u001b[1;34m()\u001b[0m\n\u001b[0;32m      1\u001b[0m \u001b[1;32mimport\u001b[0m \u001b[0mrequests\u001b[0m\u001b[1;33m,\u001b[0m\u001b[0mtime\u001b[0m\u001b[1;33m,\u001b[0m\u001b[0mMySQLdb\u001b[0m\u001b[1;33m\u001b[0m\u001b[0m\n\u001b[0;32m      2\u001b[0m \u001b[1;32mimport\u001b[0m \u001b[0mjson\u001b[0m\u001b[1;33m,\u001b[0m\u001b[0mcsv\u001b[0m\u001b[1;33m,\u001b[0m\u001b[0mos\u001b[0m\u001b[1;33m.\u001b[0m\u001b[0mpath\u001b[0m\u001b[1;33m,\u001b[0m\u001b[0msys\u001b[0m\u001b[1;33m\u001b[0m\u001b[0m\n\u001b[1;32m----> 3\u001b[1;33m \u001b[1;32mprint\u001b[0m \u001b[1;34m\"The dir is: %s\"\u001b[0m\u001b[1;33m%\u001b[0m\u001b[0mos\u001b[0m\u001b[1;33m.\u001b[0m\u001b[0mlistdir\u001b[0m\u001b[1;33m(\u001b[0m\u001b[0mos\u001b[0m\u001b[1;33m.\u001b[0m\u001b[0mgetcwd\u001b[0m\u001b[1;33m(\u001b[0m\u001b[1;34m'123'\u001b[0m\u001b[1;33m)\u001b[0m\u001b[1;33m)\u001b[0m\u001b[1;33m\u001b[0m\u001b[0m\n\u001b[0m\u001b[0;32m      4\u001b[0m \u001b[1;31m#os.rename()\u001b[0m\u001b[1;33m\u001b[0m\u001b[1;33m\u001b[0m\u001b[0m\n\u001b[0;32m      5\u001b[0m \u001b[1;31m#print \"Successfully renamed.\"\u001b[0m\u001b[1;33m\u001b[0m\u001b[1;33m\u001b[0m\u001b[0m\n",
      "\u001b[1;31mTypeError\u001b[0m: getcwd() takes no arguments (1 given)"
     ]
    }
   ],
   "source": [
    "import requests,time,MySQLdb\n",
    "import json,csv,os.path,sys\n",
    "print \"The dir is: %s\"%os.listdir(os.getcwd())\n",
    "#os.rename()\n",
    "#print \"Successfully renamed.\"\n",
    "#print \"the dir is: %s\" %os.listdir(os.getcwd())\\"
   ]
  },
  {
   "cell_type": "code",
   "execution_count": 5,
   "metadata": {
    "collapsed": false
   },
   "outputs": [
    {
     "name": "stdout",
     "output_type": "stream",
     "text": [
      "C:\\Users\\BigData\\Desktop\\stockdog\\20150430\n",
      "finished\t20150430 ok,ok...ThX God\n"
     ]
    }
   ],
   "source": [
    "import requests,time,MySQLdb\n",
    "import json,csv,os.path,sys\n",
    "date =20150430 #sys.argv[1]\n",
    "conn = MySQLdb.connect(host='10.120.31.4',user='threela',passwd='123456')\n",
    "curs = conn.cursor()\n",
    "conn.select_db('threela')\n",
    "parent_path = os.path.abspath('\\Users\\BigData\\Desktop\\stockdog\\\\'+str(date))\n",
    "print parent_path\n",
    "#print \"The dir is : %s\"%os.listdir(parent_path)[5]\n",
    "#print len(os.listdir(parent_path)) #--307 len(os.listdir(parent_path))\n",
    "try:\n",
    "    gua=[]\n",
    "    Source = 3\n",
    "    for i in range(0,len(os.listdir(parent_path))):\n",
    "        filename = os.listdir(parent_path)[i]\n",
    "        fid = open('/Users/BigData/Desktop/stockdog/'+str(date)+'/'+filename,'rb')\n",
    "        reader = csv.reader(fid)\n",
    "        stock_id = filename[-44:-40]\n",
    "        #print stock_id\n",
    "\n",
    "        rows = [row for row in reader]\n",
    "        if len(rows) >2:\n",
    "        #for row in reader:\n",
    "                #print row[0][-5:-1],row[1]\n",
    "            for j in range(1,len(rows)-1):\n",
    "                broker_id = rows[j][0][-5:-1]\n",
    "                buy = rows[j][1]\n",
    "                sell = rows[j][2]\n",
    "                buy_price = rows[j][4]\n",
    "                sell_price = rows[j][5]\n",
    "                #print broker_id,date,buy,sell,buy_price,sell_price\n",
    "                tuple1 =(stock_id,broker_id,date,buy,sell,buy_price,sell_price,Source)\n",
    "                gua.append(tuple1)\n",
    "        else:\n",
    "            pass\n",
    "    #print gua\n",
    "    \n",
    "    sql=\"replace into daily(StockId,BrokerId,TimeId,Buy,Sell,BuyPrice,SellPrice,soucre) values(%s,%s,%s,%s,%s,%s,%s,%s)\" \n",
    "    curs.executemany(sql,gua)\n",
    "    conn.commit()\n",
    "    print \"finished\"+'\\t'+str(date)+\" ok,ok...ThX God\"\n",
    "\n",
    "\n",
    "#count = curs.execute('select * from daily')\n",
    "#result = curs.fetchall()\n",
    "#print \"Finall %s totall: \" % count\n",
    "\n",
    "finally:\n",
    "    curs.close()\n",
    "    conn.close()"
   ]
  },
  {
   "cell_type": "markdown",
   "metadata": {
    "collapsed": false
   },
   "source": [
    "##income檔案匯入資料庫"
   ]
  },
  {
   "cell_type": "code",
   "execution_count": 14,
   "metadata": {
    "collapsed": false
   },
   "outputs": [
    {
     "name": "stdout",
     "output_type": "stream",
     "text": [
      "Finall 296041 totall: \n"
     ]
    }
   ],
   "source": [
    "import requests,time,MySQLdb\n",
    "import json,csv,os.path,sys\n",
    "conn = MySQLdb.connect(host='10.120.31.4',user='threela',passwd='123456')\n",
    "curs = conn.cursor()\n",
    "conn.select_db('threela')\n",
    "try:\n",
    "    gua=[]\n",
    "    with open('/Users/BigData/Desktop/income.csv','rb') as fileopen:\n",
    "        reader = csv.DictReader(fileopen)\n",
    "\n",
    "        for line in reader:\n",
    "            stockId = line['id']\n",
    "            year = line['year']\n",
    "            month = line['month']\n",
    "            income = line['income']\n",
    "            revMG = line['revMGRate']\n",
    "            revYG = line['revYGRate']\n",
    "            revYC = line['revYC']\n",
    "            revYCG = line['revYCGRate']\n",
    "            tuple1 = (stockId,year,month,income,revMG,revYG,revYC,revYCG)\n",
    "            gua.append(tuple1)\n",
    "        sql = 'replace into month(StockId,Year,Month,MonthRev,RevMonthGrowthRate,RevYearGrowthRate,CumulativeRevenues,RevYearCumulativeGRate)\\\n",
    "            value(%s,%s,%s,%s,%s,%s,%s,%s) '\n",
    "        curs.executemany(sql,gua)\n",
    "        conn.commit()\n",
    "\n",
    "finally:\n",
    "    count = curs.execute('select * from month')\n",
    "    print \"Finall %s totall: \" % count\n",
    "    fileopen.close()\n",
    "    curs.close()\n",
    "    conn.close()"
   ]
  },
  {
   "cell_type": "code",
   "execution_count": 13,
   "metadata": {
    "collapsed": false
   },
   "outputs": [
    {
     "name": "stdout",
     "output_type": "stream",
     "text": [
      "<type 'str'>\n"
     ]
    }
   ],
   "source": []
  },
  {
   "cell_type": "code",
   "execution_count": null,
   "metadata": {
    "collapsed": true
   },
   "outputs": [],
   "source": []
  }
 ],
 "metadata": {
  "kernelspec": {
   "display_name": "Python 2",
   "language": "python",
   "name": "python2"
  },
  "language_info": {
   "codemirror_mode": {
    "name": "ipython",
    "version": 2
   },
   "file_extension": ".py",
   "mimetype": "text/x-python",
   "name": "python",
   "nbconvert_exporter": "python",
   "pygments_lexer": "ipython2",
   "version": "2.7.10"
  }
 },
 "nbformat": 4,
 "nbformat_minor": 0
}
