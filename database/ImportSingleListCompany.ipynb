{
 "cells": [
  {
   "cell_type": "code",
   "execution_count": 11,
   "metadata": {
    "collapsed": false
   },
   "outputs": [
    {
     "ename": "NameError",
     "evalue": "name 'folder' is not defined",
     "output_type": "error",
     "traceback": [
      "\u001b[1;31m---------------------------------------------------------------------------\u001b[0m",
      "\u001b[1;31mNameError\u001b[0m                                 Traceback (most recent call last)",
      "\u001b[1;32m<ipython-input-11-d1e30a9e1569>\u001b[0m in \u001b[0;36m<module>\u001b[1;34m()\u001b[0m\n\u001b[0;32m      2\u001b[0m \u001b[1;32mimport\u001b[0m \u001b[0mmysql\u001b[0m\u001b[1;33m.\u001b[0m\u001b[0mconnector\u001b[0m\u001b[1;33m\u001b[0m\u001b[0m\n\u001b[0;32m      3\u001b[0m \u001b[0mstockfile\u001b[0m\u001b[1;33m=\u001b[0m\u001b[1;34m'E:/daily/raw/20150615/1101.csv'\u001b[0m\u001b[1;33m\u001b[0m\u001b[0m\n\u001b[1;32m----> 4\u001b[1;33m \u001b[0mTimeId\u001b[0m\u001b[1;33m=\u001b[0m\u001b[0mfolder\u001b[0m\u001b[1;33m\u001b[0m\u001b[0m\n\u001b[0m\u001b[0;32m      5\u001b[0m \u001b[0mstockid\u001b[0m\u001b[1;33m=\u001b[0m\u001b[1;34m'E:/daily/raw/20150615/1101.csv'\u001b[0m\u001b[1;33m\u001b[0m\u001b[0m\n\u001b[0;32m      6\u001b[0m \u001b[1;32mif\u001b[0m\u001b[1;33m(\u001b[0m\u001b[0mos\u001b[0m\u001b[1;33m.\u001b[0m\u001b[0mpath\u001b[0m\u001b[1;33m.\u001b[0m\u001b[0mexists\u001b[0m\u001b[1;33m(\u001b[0m\u001b[0mstockfile\u001b[0m\u001b[1;33m)\u001b[0m\u001b[1;33m)\u001b[0m\u001b[1;33m:\u001b[0m\u001b[1;33m\u001b[0m\u001b[0m\n",
      "\u001b[1;31mNameError\u001b[0m: name 'folder' is not defined"
     ]
    }
   ],
   "source": [
    "import os,csv,codecs,sys\n",
    "import mysql.connector\n",
    "stockfile='E:/daily/raw/20150615/1101.csv'\n",
    "TimeId=20150615\n",
    "stockid='1101'\n",
    "if(os.path.exists(stockfile)):\n",
    "    records=[]\n",
    "    try:\n",
    "        #read data from csv file\n",
    "        with open(stockfile,'r') as dailyfile:\n",
    "            reader =csv.reader(dailyfile)\n",
    "            headline=reader.next()[0]\n",
    "            #print headline.decode('big5')\n",
    "            if headline=='查無資料':\n",
    "                print stockfile +u\"=查無資料\"\n",
    "                continue\n",
    "            reader.next()\n",
    "            reader.next()\n",
    "            \n",
    "            for row in reader:\n",
    "                record1={'id':'','broker':'','price':'','buy':'','sell':''}\n",
    "                record2={'id':'','broker':'','price':'','buy':'','sell':''}\n",
    "                #data=row.decode(code).split(',')\n",
    "                record1['id']=row[0]\n",
    "                record1['broker']=row[1][:4]\n",
    "                record1['price']=float(row[2])\n",
    "                record1['buy']=int(row[3].replace(',',''))\n",
    "                record1['sell']=int(row[4].replace(',',''))\n",
    "                records.append(record1)\n",
    "                #print record1               \n",
    "                if len(row)>5 and len(row[6])>0:\n",
    "                    record2['id']=row[6]\n",
    "                    record2['broker']=row[7][:4]\n",
    "                    record2['price']=float(row[8])\n",
    "                    record2['buy']=int(row[9].replace(',',''))\n",
    "                    record2['sell']=int(row[10].replace(',',''))\n",
    "                    records.append(record2)\n",
    "                    #print record2\n",
    "        \n",
    "        #insert to DB\n",
    "        cnx = mysql.connector.connect(user='threela', password='123456',\n",
    "                                  host='127.0.0.1',\n",
    "                                  database='threela')\n",
    "        cursor = cnx.cursor()\n",
    "        add_daily= (\"INSERT INTO `threela`.`daily_tmp` \"\n",
    "                   \"(StockId,BrokerId,TimeId,Buy,Sell,BuyPrice,SellPrice) \"\n",
    "                   \"VALUES (%s,%s,%s,%s,%s,%s,%s)\")\n",
    "        data=[]\n",
    "        for record in records:\n",
    "            brokerid=record['broker']\n",
    "            \n",
    "            Buy=int(record['buy']/1000)\n",
    "            Sell=int(record['sell']/1000)\n",
    "            buyprice=0\n",
    "            sellprice=0\n",
    "            if record['buy'] >0:\n",
    "                    buyprice=record['price']\n",
    "            if record['sell'] >0:\n",
    "                    sellprice=record['price']\n",
    "            data_daily=(stockid,brokerid,TimeId,Buy,Sell,buyprice,sellprice)\n",
    "            data.append(data_daily)\n",
    "        \n",
    "        #cursor.executemany(add_daily, data)\n",
    "        #cnx.commit()\n",
    "    except:\n",
    "        print \"Unexpected error:\", stockfile,sys.exc_info()[0],sys.exc_info()[1]\n",
    "    finally:\n",
    "        cursor.close()\n",
    "        cns.close()"
   ]
  },
  {
   "cell_type": "code",
   "execution_count": null,
   "metadata": {
    "collapsed": true
   },
   "outputs": [],
   "source": []
  }
 ],
 "metadata": {
  "kernelspec": {
   "display_name": "Python 2",
   "language": "python",
   "name": "python2"
  },
  "language_info": {
   "codemirror_mode": {
    "name": "ipython",
    "version": 2
   },
   "file_extension": ".py",
   "mimetype": "text/x-python",
   "name": "python",
   "nbconvert_exporter": "python",
   "pygments_lexer": "ipython2",
   "version": "2.7.10"
  }
 },
 "nbformat": 4,
 "nbformat_minor": 0
}
