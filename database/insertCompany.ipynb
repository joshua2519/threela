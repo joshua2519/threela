{
 "cells": [
  {
   "cell_type": "code",
   "execution_count": 20,
   "metadata": {
    "collapsed": false
   },
   "outputs": [],
   "source": [
    "\n",
    "import mysql.connector\n",
    "import csv\n",
    "cnx = mysql.connector.connect(user='threela', password='123456',\n",
    "                              host='10.120.31.4',\n",
    "                              database='threela')\n",
    "\n",
    "cursor = cnx.cursor()\n",
    "add_company= (\"INSERT INTO `threela`.`company` \"\n",
    "               \"(StockId,ComName,Address,Chairman,GM,OpenDate,ListDate,Capital) \"\n",
    "               \"VALUES (%s,%s,%s,%s,%s,%s,%s,%s)\")\n",
    "\n",
    "data=[]\n",
    "with open('listcom.csv', 'r') as broker:\n",
    "    reader = csv.reader(broker)\n",
    "    for row in reader:\n",
    "        #print row[0],row[1].decode('big5'),row[2].decode('big5'),row[4].decode('big5'),row[5].decode('big5'),row[10],row[11],row[13]\n",
    "        stockid=row[0]        \n",
    "        name=row[1]\n",
    "        address=row[2]\n",
    "        chairman=row[4]\n",
    "        gm=row[5]\n",
    "        opendate=row[10]\n",
    "        listdate=row[11]\n",
    "        capital=row[13]\n",
    "        data_company=(stockid,name,address,chairman,gm,opendate,listdate,capital)\n",
    "        data.append(data_company)\n",
    "with open('listcom_otc.csv', 'r') as broker:\n",
    "    reader = csv.reader(broker)\n",
    "    for row in reader:\n",
    "        #print row[0],row[1].decode('big5'),row[2].decode('big5'),row[4].decode('big5'),row[5].decode('big5'),row[10],row[11],row[13]\n",
    "        stockid=row[0]\n",
    "        name=row[1]\n",
    "        address=row[2]\n",
    "        chairman=row[4]\n",
    "        gm=row[5]\n",
    "        opendate=row[10]\n",
    "        listdate=row[11]\n",
    "        capital=row[13]\n",
    "        data_company=(stockid,name,address,chairman,gm,opendate,listdate,capital)\n",
    "        data.append(data_company)\n",
    "try:\n",
    "    cursor.executemany(add_company, data)\n",
    "    cnx.commit()\n",
    "except mysql.connector.Error as err:\n",
    "    print (\"Something went wrong: {}\".format(err))\n",
    "finally:\n",
    "    cursor.close()\n",
    "    cnx.close()"
   ]
  },
  {
   "cell_type": "code",
   "execution_count": null,
   "metadata": {
    "collapsed": true
   },
   "outputs": [],
   "source": []
  }
 ],
 "metadata": {
  "kernelspec": {
   "display_name": "Python 2",
   "language": "python",
   "name": "python2"
  },
  "language_info": {
   "codemirror_mode": {
    "name": "ipython",
    "version": 2
   },
   "file_extension": ".py",
   "mimetype": "text/x-python",
   "name": "python",
   "nbconvert_exporter": "python",
   "pygments_lexer": "ipython2",
   "version": "2.7.10"
  }
 },
 "nbformat": 4,
 "nbformat_minor": 0
}
