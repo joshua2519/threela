{
 "cells": [
  {
   "cell_type": "code",
   "execution_count": null,
   "metadata": {
    "collapsed": false
   },
   "outputs": [],
   "source": [
    "import mysql.connector\n",
    "import csv\n",
    "cnx = mysql.connector.connect(user='threela', password='123456',\n",
    "                              host='10.120.31.4',\n",
    "                              database='threela')\n",
    "cursor = cnx.cursor()\n",
    "add_brokderhead = (\"INSERT INTO `threela`.`brokers` \"\n",
    "               \"(BrokerId,Name,Phone,Address,OpenDate,Type) \"\n",
    "               \"VALUES (%s,%s,%s,%s,%s,%s)\")\n",
    "data=[]\n",
    "with open('headbrokers.csv', 'r') as csvfile:\n",
    "    reader = csv.reader(csvfile)\n",
    "    for row in reader:\n",
    "        headid=row[0]\n",
    "        name=row[1]\n",
    "        if len(row[2])==6:\n",
    "            taiwanyear=row[2][0:2]\n",
    "        else:\n",
    "            taiwanyear=row[2][0:3]\n",
    "        ADyear=int(taiwanyear)+1911\n",
    "        opendate=str(ADyear)+row[2][-4:]\n",
    "        address=row[3]\n",
    "        title=row[4]\n",
    "        phone=row[5]\n",
    "        print headid,name,opendate,address,title,phone\n",
    "        brokderhead_data=(headid,name,opendate,address,title,phone)\n",
    "        data.append(brokderhead_data)\n",
    "cursor.executemany(add_brokderhead, data)\n",
    "cnx.commit()\n",
    "\n",
    "cursor.close()\n",
    "cnx.close()\n",
    "        "
   ]
  }
 ],
 "metadata": {
  "kernelspec": {
   "display_name": "Python 2",
   "language": "python",
   "name": "python2"
  },
  "language_info": {
   "codemirror_mode": {
    "name": "ipython",
    "version": 2
   },
   "file_extension": ".py",
   "mimetype": "text/x-python",
   "name": "python",
   "nbconvert_exporter": "python",
   "pygments_lexer": "ipython2",
   "version": "2.7.10"
  }
 },
 "nbformat": 4,
 "nbformat_minor": 0
}
