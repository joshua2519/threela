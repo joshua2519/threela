{
 "cells": [
  {
   "cell_type": "code",
   "execution_count": null,
   "metadata": {
    "collapsed": false
   },
   "outputs": [],
   "source": [
    "#insert 範例\n",
    "import mysql.connector\n",
    "from datetime import timedelta, date\n",
    "def daterange(start_date, end_date):\n",
    "    for n in range(int ((end_date - start_date).days)):\n",
    "        yield start_date + timedelta(n)\n",
    "\n",
    "cnx = mysql.connector.connect(user='threela', password='123456',\n",
    "                              host='10.120.31.4',\n",
    "                              database='threela')\n",
    "cursor = cnx.cursor()\n",
    "add_time = (\"INSERT INTO time \"\n",
    "               \"(TimeId,Year,Month,Day,Week,WeekOfYear,Date) \"\n",
    "               \"VALUES (%s,%s,%s,%s,%s,%s,%s)\")\n",
    "start_date = date(2000, 1, 1)\n",
    "end_date = date(2021, 1, 1)\n",
    "data=[]\n",
    "for single_date in daterange(start_date, end_date):\n",
    "    print single_date.strftime(\"%Y-%m-%d\")\n",
    "    timeid=int(single_date.strftime(\"%Y%m%d\"))\n",
    "    year=single_date.year\n",
    "    month=single_date.month\n",
    "    day=single_date.day\n",
    "    week=single_date.weekday()\n",
    "    woy=single_date.isocalendar()[1] # week of year\n",
    "    date_str=single_date.strftime(\"%Y-%m-%d\")\n",
    "    data_time = (timeid,year,month,day,week,woy,date_str)\n",
    "    data.append(data_time)\n",
    "r=cursor.executemany(add_time, data)\n",
    "cnx.commit()\n",
    "print r\n",
    "cursor.close()\n",
    "cnx.close()"
   ]
  },
  {
   "cell_type": "code",
   "execution_count": null,
   "metadata": {
    "collapsed": false
   },
   "outputs": [],
   "source": [
    "'''\n",
    "from calendar import Calendar, SUNDAY\n",
    "\n",
    "cal=Calendar()\n",
    "#print list(cal.itermonthdates(2015,1))\n",
    "#print list(cal.itermonthdays2(2015,1))\n",
    "#print list(cal.itermonthdays(2015,1))\n",
    "#print cal.monthdatescalendar(2015,1)\n",
    "print cal.yeardayscalendar(2015,1)\n",
    "#print cal.yeardatescalendar(2015,1)[0][0][0][0]\n",
    "'''"
   ]
  },
  {
   "cell_type": "code",
   "execution_count": null,
   "metadata": {
    "collapsed": false
   },
   "outputs": [],
   "source": [
    "'''\n",
    "from datetime import timedelta, date\n",
    "\n",
    "def daterange(start_date, end_date):\n",
    "    for n in range(int ((end_date - start_date).days)):\n",
    "        yield start_date + timedelta(n)\n",
    "\n",
    "start_date = date(2013, 1, 1)\n",
    "end_date = date(2015, 6, 2)\n",
    "for single_date in daterange(start_date, end_date):\n",
    "    print single_date.strftime(\"%Y%m%d\"), single_date.isocalendar()[1]\n",
    "'''"
   ]
  },
  {
   "cell_type": "code",
   "execution_count": null,
   "metadata": {
    "collapsed": true
   },
   "outputs": [],
   "source": []
  }
 ],
 "metadata": {
  "kernelspec": {
   "display_name": "Python 2",
   "language": "python",
   "name": "python2"
  },
  "language_info": {
   "codemirror_mode": {
    "name": "ipython",
    "version": 2
   },
   "file_extension": ".py",
   "mimetype": "text/x-python",
   "name": "python",
   "nbconvert_exporter": "python",
   "pygments_lexer": "ipython2",
   "version": "2.7.10"
  }
 },
 "nbformat": 4,
 "nbformat_minor": 0
}
