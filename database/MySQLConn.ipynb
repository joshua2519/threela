{
 "cells": [
  {
   "cell_type": "code",
   "execution_count": 7,
   "metadata": {
    "collapsed": false
   },
   "outputs": [
    {
     "name": "stdout",
     "output_type": "stream",
     "text": [
      "joshua 1983-07-17\n",
      "john 1983-08-24\n",
      "mary 1999-09-21\n"
     ]
    }
   ],
   "source": [
    "#select 範例\n",
    "\n",
    "import mysql.connector\n",
    "\n",
    "cnx = mysql.connector.connect(user='threela', password='123456',\n",
    "                              host='10.120.31.4',\n",
    "                              database='threela')\n",
    "cursor = cnx.cursor()\n",
    "query = (\"SELECT * FROM threela.tmp\")\n",
    "cursor.execute(query)\n",
    "\n",
    "for(id,name,birthday) in cursor:\n",
    "    print name,birthday\n",
    "\n",
    "cursor.close()\n",
    "cnx.close()"
   ]
  },
  {
   "cell_type": "code",
   "execution_count": 9,
   "metadata": {
    "collapsed": true
   },
   "outputs": [],
   "source": [
    "#insert 範例\n",
    "import mysql.connector\n",
    "\n",
    "cnx = mysql.connector.connect(user='threela', password='123456',\n",
    "                              host='10.120.31.4',\n",
    "                              database='threela')\n",
    "cursor = cnx.cursor()\n",
    "add_tmp = (\"INSERT INTO tmp \"\n",
    "               \"(name, birthday) \"\n",
    "               \"VALUES (%s, %s)\")\n",
    "data_tmp = ('Justin', '19850805')\n",
    "\n",
    "cursor.execute(add_tmp, data_tmp)\n",
    "cnx.commit()\n",
    "\n",
    "cursor.close()\n",
    "cnx.close()"
   ]
  },
  {
   "cell_type": "code",
   "execution_count": 13,
   "metadata": {
    "collapsed": false
   },
   "outputs": [],
   "source": [
    "#update 範例\n",
    "import mysql.connector\n",
    "\n",
    "cnx = mysql.connector.connect(user='threela', password='123456',\n",
    "                              host='10.120.31.4',\n",
    "                              database='threela')\n",
    "cursor = cnx.cursor()\n",
    "add_tmp = (\"UPDATE tmp \"\n",
    "            \"set name= %s,birthday=%s\"\n",
    "            \" where id=1\")\n",
    "data_tmp = ('JoshuaChien', '19830824')\n",
    "\n",
    "cursor.execute(add_tmp, data_tmp)\n",
    "cnx.commit()\n",
    "\n",
    "cursor.close()\n",
    "cnx.close()"
   ]
  }
 ],
 "metadata": {
  "kernelspec": {
   "display_name": "Python 2",
   "language": "python",
   "name": "python2"
  },
  "language_info": {
   "codemirror_mode": {
    "name": "ipython",
    "version": 2
   },
   "file_extension": ".py",
   "mimetype": "text/x-python",
   "name": "python",
   "nbconvert_exporter": "python",
   "pygments_lexer": "ipython2",
   "version": "2.7.10"
  }
 },
 "nbformat": 4,
 "nbformat_minor": 0
}
